{
  "nbformat": 4,
  "nbformat_minor": 0,
  "metadata": {
    "colab": {
      "provenance": []
    },
    "kernelspec": {
      "name": "python3",
      "display_name": "Python 3"
    },
    "language_info": {
      "name": "python"
    }
  },
  "cells": [
    {
      "cell_type": "code",
      "source": [
        "import json\n",
        "import pandas as pd"
      ],
      "metadata": {
        "id": "-CyVdGqHbmsG"
      },
      "execution_count": 3,
      "outputs": []
    },
    {
      "cell_type": "code",
      "execution_count": 4,
      "metadata": {
        "id": "YwYcOwL6UTnC",
        "colab": {
          "base_uri": "https://localhost:8080/"
        },
        "outputId": "e010bf1c-e8d9-4a51-8ce2-db7c864d3732"
      },
      "outputs": [
        {
          "output_type": "stream",
          "name": "stdout",
          "text": [
            "Drive already mounted at /content/drive; to attempt to forcibly remount, call drive.mount(\"/content/drive\", force_remount=True).\n"
          ]
        }
      ],
      "source": [
        "from google.colab import drive\n",
        "drive.mount('/content/drive')"
      ]
    },
    {
      "cell_type": "code",
      "source": [
        "users_df = pd.read_csv('/content/drive/MyDrive/targilimP/bipper_users.csv')"
      ],
      "metadata": {
        "id": "VAoXE0QjYhqa"
      },
      "execution_count": 5,
      "outputs": []
    },
    {
      "cell_type": "code",
      "source": [
        "with open('/content/drive/MyDrive/targilimP/bipper_activity_details.json') as f:\n",
        "    social_data = json.load(f)\n",
        "records = []\n",
        "for entry in social_data:\n",
        "    for message in entry['messages']:\n",
        "        records.append({\n",
        "            'user_id': entry['user_id'],\n",
        "            'to_user': message['to_user'],\n",
        "            'timestamp': message['timestamp'],\n",
        "            'friends_count': len(entry['friends']),\n",
        "            'message': message['content']\n",
        "        })\n",
        "\n",
        "df_messages = pd.DataFrame(records)\n",
        "df_messages.head()"
      ],
      "metadata": {
        "colab": {
          "base_uri": "https://localhost:8080/",
          "height": 206
        },
        "id": "sHlP4MxUppVb",
        "outputId": "c63daf47-7efc-4059-faa2-dcc2ad9c0fc7"
      },
      "execution_count": 6,
      "outputs": [
        {
          "output_type": "execute_result",
          "data": {
            "text/plain": [
              "   user_id  to_user                   timestamp  friends_count  \\\n",
              "0        1        4  2024-08-24T21:53:57.083653              3   \n",
              "1        2       13  2024-04-27T21:53:57.091285              1   \n",
              "2        2       13  2024-09-25T21:53:57.092404              1   \n",
              "3        2       13  2024-02-13T21:53:57.093354              1   \n",
              "4        2       13  2024-01-31T21:53:57.094258              1   \n",
              "\n",
              "                                             message  \n",
              "0                            Hey David, how are you?  \n",
              "1                             Hey Mark, how are you?  \n",
              "2    Let's meet at Central Park on 2023-11-13, Mark!  \n",
              "3                             Hey Mark, how are you?  \n",
              "4  Let's meet at Riverwalk Cafe on 2024-01-06, Mark!  "
            ],
            "text/html": [
              "\n",
              "  <div id=\"df-da8f130f-45c1-4e1f-9067-75ae61e018c0\" class=\"colab-df-container\">\n",
              "    <div>\n",
              "<style scoped>\n",
              "    .dataframe tbody tr th:only-of-type {\n",
              "        vertical-align: middle;\n",
              "    }\n",
              "\n",
              "    .dataframe tbody tr th {\n",
              "        vertical-align: top;\n",
              "    }\n",
              "\n",
              "    .dataframe thead th {\n",
              "        text-align: right;\n",
              "    }\n",
              "</style>\n",
              "<table border=\"1\" class=\"dataframe\">\n",
              "  <thead>\n",
              "    <tr style=\"text-align: right;\">\n",
              "      <th></th>\n",
              "      <th>user_id</th>\n",
              "      <th>to_user</th>\n",
              "      <th>timestamp</th>\n",
              "      <th>friends_count</th>\n",
              "      <th>message</th>\n",
              "    </tr>\n",
              "  </thead>\n",
              "  <tbody>\n",
              "    <tr>\n",
              "      <th>0</th>\n",
              "      <td>1</td>\n",
              "      <td>4</td>\n",
              "      <td>2024-08-24T21:53:57.083653</td>\n",
              "      <td>3</td>\n",
              "      <td>Hey David, how are you?</td>\n",
              "    </tr>\n",
              "    <tr>\n",
              "      <th>1</th>\n",
              "      <td>2</td>\n",
              "      <td>13</td>\n",
              "      <td>2024-04-27T21:53:57.091285</td>\n",
              "      <td>1</td>\n",
              "      <td>Hey Mark, how are you?</td>\n",
              "    </tr>\n",
              "    <tr>\n",
              "      <th>2</th>\n",
              "      <td>2</td>\n",
              "      <td>13</td>\n",
              "      <td>2024-09-25T21:53:57.092404</td>\n",
              "      <td>1</td>\n",
              "      <td>Let's meet at Central Park on 2023-11-13, Mark!</td>\n",
              "    </tr>\n",
              "    <tr>\n",
              "      <th>3</th>\n",
              "      <td>2</td>\n",
              "      <td>13</td>\n",
              "      <td>2024-02-13T21:53:57.093354</td>\n",
              "      <td>1</td>\n",
              "      <td>Hey Mark, how are you?</td>\n",
              "    </tr>\n",
              "    <tr>\n",
              "      <th>4</th>\n",
              "      <td>2</td>\n",
              "      <td>13</td>\n",
              "      <td>2024-01-31T21:53:57.094258</td>\n",
              "      <td>1</td>\n",
              "      <td>Let's meet at Riverwalk Cafe on 2024-01-06, Mark!</td>\n",
              "    </tr>\n",
              "  </tbody>\n",
              "</table>\n",
              "</div>\n",
              "    <div class=\"colab-df-buttons\">\n",
              "\n",
              "  <div class=\"colab-df-container\">\n",
              "    <button class=\"colab-df-convert\" onclick=\"convertToInteractive('df-da8f130f-45c1-4e1f-9067-75ae61e018c0')\"\n",
              "            title=\"Convert this dataframe to an interactive table.\"\n",
              "            style=\"display:none;\">\n",
              "\n",
              "  <svg xmlns=\"http://www.w3.org/2000/svg\" height=\"24px\" viewBox=\"0 -960 960 960\">\n",
              "    <path d=\"M120-120v-720h720v720H120Zm60-500h600v-160H180v160Zm220 220h160v-160H400v160Zm0 220h160v-160H400v160ZM180-400h160v-160H180v160Zm440 0h160v-160H620v160ZM180-180h160v-160H180v160Zm440 0h160v-160H620v160Z\"/>\n",
              "  </svg>\n",
              "    </button>\n",
              "\n",
              "  <style>\n",
              "    .colab-df-container {\n",
              "      display:flex;\n",
              "      gap: 12px;\n",
              "    }\n",
              "\n",
              "    .colab-df-convert {\n",
              "      background-color: #E8F0FE;\n",
              "      border: none;\n",
              "      border-radius: 50%;\n",
              "      cursor: pointer;\n",
              "      display: none;\n",
              "      fill: #1967D2;\n",
              "      height: 32px;\n",
              "      padding: 0 0 0 0;\n",
              "      width: 32px;\n",
              "    }\n",
              "\n",
              "    .colab-df-convert:hover {\n",
              "      background-color: #E2EBFA;\n",
              "      box-shadow: 0px 1px 2px rgba(60, 64, 67, 0.3), 0px 1px 3px 1px rgba(60, 64, 67, 0.15);\n",
              "      fill: #174EA6;\n",
              "    }\n",
              "\n",
              "    .colab-df-buttons div {\n",
              "      margin-bottom: 4px;\n",
              "    }\n",
              "\n",
              "    [theme=dark] .colab-df-convert {\n",
              "      background-color: #3B4455;\n",
              "      fill: #D2E3FC;\n",
              "    }\n",
              "\n",
              "    [theme=dark] .colab-df-convert:hover {\n",
              "      background-color: #434B5C;\n",
              "      box-shadow: 0px 1px 3px 1px rgba(0, 0, 0, 0.15);\n",
              "      filter: drop-shadow(0px 1px 2px rgba(0, 0, 0, 0.3));\n",
              "      fill: #FFFFFF;\n",
              "    }\n",
              "  </style>\n",
              "\n",
              "    <script>\n",
              "      const buttonEl =\n",
              "        document.querySelector('#df-da8f130f-45c1-4e1f-9067-75ae61e018c0 button.colab-df-convert');\n",
              "      buttonEl.style.display =\n",
              "        google.colab.kernel.accessAllowed ? 'block' : 'none';\n",
              "\n",
              "      async function convertToInteractive(key) {\n",
              "        const element = document.querySelector('#df-da8f130f-45c1-4e1f-9067-75ae61e018c0');\n",
              "        const dataTable =\n",
              "          await google.colab.kernel.invokeFunction('convertToInteractive',\n",
              "                                                    [key], {});\n",
              "        if (!dataTable) return;\n",
              "\n",
              "        const docLinkHtml = 'Like what you see? Visit the ' +\n",
              "          '<a target=\"_blank\" href=https://colab.research.google.com/notebooks/data_table.ipynb>data table notebook</a>'\n",
              "          + ' to learn more about interactive tables.';\n",
              "        element.innerHTML = '';\n",
              "        dataTable['output_type'] = 'display_data';\n",
              "        await google.colab.output.renderOutput(dataTable, element);\n",
              "        const docLink = document.createElement('div');\n",
              "        docLink.innerHTML = docLinkHtml;\n",
              "        element.appendChild(docLink);\n",
              "      }\n",
              "    </script>\n",
              "  </div>\n",
              "\n",
              "\n",
              "<div id=\"df-fff072bd-3947-4aa8-986b-4c8908ed2b3a\">\n",
              "  <button class=\"colab-df-quickchart\" onclick=\"quickchart('df-fff072bd-3947-4aa8-986b-4c8908ed2b3a')\"\n",
              "            title=\"Suggest charts\"\n",
              "            style=\"display:none;\">\n",
              "\n",
              "<svg xmlns=\"http://www.w3.org/2000/svg\" height=\"24px\"viewBox=\"0 0 24 24\"\n",
              "     width=\"24px\">\n",
              "    <g>\n",
              "        <path d=\"M19 3H5c-1.1 0-2 .9-2 2v14c0 1.1.9 2 2 2h14c1.1 0 2-.9 2-2V5c0-1.1-.9-2-2-2zM9 17H7v-7h2v7zm4 0h-2V7h2v10zm4 0h-2v-4h2v4z\"/>\n",
              "    </g>\n",
              "</svg>\n",
              "  </button>\n",
              "\n",
              "<style>\n",
              "  .colab-df-quickchart {\n",
              "      --bg-color: #E8F0FE;\n",
              "      --fill-color: #1967D2;\n",
              "      --hover-bg-color: #E2EBFA;\n",
              "      --hover-fill-color: #174EA6;\n",
              "      --disabled-fill-color: #AAA;\n",
              "      --disabled-bg-color: #DDD;\n",
              "  }\n",
              "\n",
              "  [theme=dark] .colab-df-quickchart {\n",
              "      --bg-color: #3B4455;\n",
              "      --fill-color: #D2E3FC;\n",
              "      --hover-bg-color: #434B5C;\n",
              "      --hover-fill-color: #FFFFFF;\n",
              "      --disabled-bg-color: #3B4455;\n",
              "      --disabled-fill-color: #666;\n",
              "  }\n",
              "\n",
              "  .colab-df-quickchart {\n",
              "    background-color: var(--bg-color);\n",
              "    border: none;\n",
              "    border-radius: 50%;\n",
              "    cursor: pointer;\n",
              "    display: none;\n",
              "    fill: var(--fill-color);\n",
              "    height: 32px;\n",
              "    padding: 0;\n",
              "    width: 32px;\n",
              "  }\n",
              "\n",
              "  .colab-df-quickchart:hover {\n",
              "    background-color: var(--hover-bg-color);\n",
              "    box-shadow: 0 1px 2px rgba(60, 64, 67, 0.3), 0 1px 3px 1px rgba(60, 64, 67, 0.15);\n",
              "    fill: var(--button-hover-fill-color);\n",
              "  }\n",
              "\n",
              "  .colab-df-quickchart-complete:disabled,\n",
              "  .colab-df-quickchart-complete:disabled:hover {\n",
              "    background-color: var(--disabled-bg-color);\n",
              "    fill: var(--disabled-fill-color);\n",
              "    box-shadow: none;\n",
              "  }\n",
              "\n",
              "  .colab-df-spinner {\n",
              "    border: 2px solid var(--fill-color);\n",
              "    border-color: transparent;\n",
              "    border-bottom-color: var(--fill-color);\n",
              "    animation:\n",
              "      spin 1s steps(1) infinite;\n",
              "  }\n",
              "\n",
              "  @keyframes spin {\n",
              "    0% {\n",
              "      border-color: transparent;\n",
              "      border-bottom-color: var(--fill-color);\n",
              "      border-left-color: var(--fill-color);\n",
              "    }\n",
              "    20% {\n",
              "      border-color: transparent;\n",
              "      border-left-color: var(--fill-color);\n",
              "      border-top-color: var(--fill-color);\n",
              "    }\n",
              "    30% {\n",
              "      border-color: transparent;\n",
              "      border-left-color: var(--fill-color);\n",
              "      border-top-color: var(--fill-color);\n",
              "      border-right-color: var(--fill-color);\n",
              "    }\n",
              "    40% {\n",
              "      border-color: transparent;\n",
              "      border-right-color: var(--fill-color);\n",
              "      border-top-color: var(--fill-color);\n",
              "    }\n",
              "    60% {\n",
              "      border-color: transparent;\n",
              "      border-right-color: var(--fill-color);\n",
              "    }\n",
              "    80% {\n",
              "      border-color: transparent;\n",
              "      border-right-color: var(--fill-color);\n",
              "      border-bottom-color: var(--fill-color);\n",
              "    }\n",
              "    90% {\n",
              "      border-color: transparent;\n",
              "      border-bottom-color: var(--fill-color);\n",
              "    }\n",
              "  }\n",
              "</style>\n",
              "\n",
              "  <script>\n",
              "    async function quickchart(key) {\n",
              "      const quickchartButtonEl =\n",
              "        document.querySelector('#' + key + ' button');\n",
              "      quickchartButtonEl.disabled = true;  // To prevent multiple clicks.\n",
              "      quickchartButtonEl.classList.add('colab-df-spinner');\n",
              "      try {\n",
              "        const charts = await google.colab.kernel.invokeFunction(\n",
              "            'suggestCharts', [key], {});\n",
              "      } catch (error) {\n",
              "        console.error('Error during call to suggestCharts:', error);\n",
              "      }\n",
              "      quickchartButtonEl.classList.remove('colab-df-spinner');\n",
              "      quickchartButtonEl.classList.add('colab-df-quickchart-complete');\n",
              "    }\n",
              "    (() => {\n",
              "      let quickchartButtonEl =\n",
              "        document.querySelector('#df-fff072bd-3947-4aa8-986b-4c8908ed2b3a button');\n",
              "      quickchartButtonEl.style.display =\n",
              "        google.colab.kernel.accessAllowed ? 'block' : 'none';\n",
              "    })();\n",
              "  </script>\n",
              "</div>\n",
              "\n",
              "    </div>\n",
              "  </div>\n"
            ],
            "application/vnd.google.colaboratory.intrinsic+json": {
              "type": "dataframe",
              "variable_name": "df_messages",
              "summary": "{\n  \"name\": \"df_messages\",\n  \"rows\": 5460,\n  \"fields\": [\n    {\n      \"column\": \"user_id\",\n      \"properties\": {\n        \"dtype\": \"number\",\n        \"std\": 294,\n        \"min\": 1,\n        \"max\": 1000,\n        \"num_unique_values\": 1000,\n        \"samples\": [\n          522,\n          738,\n          741\n        ],\n        \"semantic_type\": \"\",\n        \"description\": \"\"\n      }\n    },\n    {\n      \"column\": \"to_user\",\n      \"properties\": {\n        \"dtype\": \"number\",\n        \"std\": 4,\n        \"min\": 1,\n        \"max\": 16,\n        \"num_unique_values\": 16,\n        \"samples\": [\n          4,\n          13,\n          14\n        ],\n        \"semantic_type\": \"\",\n        \"description\": \"\"\n      }\n    },\n    {\n      \"column\": \"timestamp\",\n      \"properties\": {\n        \"dtype\": \"object\",\n        \"num_unique_values\": 5460,\n        \"samples\": [\n          \"2024-01-16T21:53:57.651908\",\n          \"2024-03-18T21:54:00.219673\",\n          \"2024-03-04T21:53:57.127195\"\n        ],\n        \"semantic_type\": \"\",\n        \"description\": \"\"\n      }\n    },\n    {\n      \"column\": \"friends_count\",\n      \"properties\": {\n        \"dtype\": \"number\",\n        \"std\": 1,\n        \"min\": 1,\n        \"max\": 5,\n        \"num_unique_values\": 5,\n        \"samples\": [\n          1,\n          5,\n          4\n        ],\n        \"semantic_type\": \"\",\n        \"description\": \"\"\n      }\n    },\n    {\n      \"column\": \"message\",\n      \"properties\": {\n        \"dtype\": \"category\",\n        \"num_unique_values\": 2696,\n        \"samples\": [\n          \"Let's meet at Tech Hub on 2024-08-28, Judy!\",\n          \"Let's meet at The Coffee House on 2024-08-25, Nina!\",\n          \"Let's meet at Riverwalk Cafe on 2024-04-27, Mark!\"\n        ],\n        \"semantic_type\": \"\",\n        \"description\": \"\"\n      }\n    }\n  ]\n}"
            }
          },
          "metadata": {},
          "execution_count": 6
        }
      ]
    },
    {
      "cell_type": "code",
      "source": [
        "merged_df = pd.merge(df_messages, users_df, on='user_id', how='inner')#  פעולה זו מאחדת לנו בין הטבלאות בצורה של השוואה של המפתחות\n",
        "print(merged_df.head())\n"
      ],
      "metadata": {
        "colab": {
          "base_uri": "https://localhost:8080/"
        },
        "id": "h9fJ6_BPsyhR",
        "outputId": "f6971c38-f682-415d-f44b-c53361484d42"
      },
      "execution_count": 7,
      "outputs": [
        {
          "output_type": "stream",
          "name": "stdout",
          "text": [
            "   user_id  to_user                   timestamp  friends_count  \\\n",
            "0        1        4  2024-08-24T21:53:57.083653              3   \n",
            "1        2       13  2024-04-27T21:53:57.091285              1   \n",
            "2        2       13  2024-09-25T21:53:57.092404              1   \n",
            "3        2       13  2024-02-13T21:53:57.093354              1   \n",
            "4        2       13  2024-01-31T21:53:57.094258              1   \n",
            "\n",
            "                                             message      name  age gender  \\\n",
            "0                            Hey David, how are you?      Ian1   51      M   \n",
            "1                             Hey Mark, how are you?  Charlie2   51      F   \n",
            "2    Let's meet at Central Park on 2023-11-13, Mark!  Charlie2   51      F   \n",
            "3                             Hey Mark, how are you?  Charlie2   51      F   \n",
            "4  Let's meet at Riverwalk Cafe on 2024-01-06, Mark!  Charlie2   51      F   \n",
            "\n",
            "      city   join_date  \n",
            "0  Seattle  2024-03-24  \n",
            "1  Atlanta  2024-02-14  \n",
            "2  Atlanta  2024-02-14  \n",
            "3  Atlanta  2024-02-14  \n",
            "4  Atlanta  2024-02-14  \n"
          ]
        }
      ]
    },
    {
      "cell_type": "code",
      "source": [
        "rows, columns = merged_df.shape#פעולה שמחזירה כטאפל את מספר השורות ומספר העמודות\n",
        "print(f'Number of rows: {rows}, Number of columns: {columns}')"
      ],
      "metadata": {
        "colab": {
          "base_uri": "https://localhost:8080/"
        },
        "id": "bcjZnj8Iuc8C",
        "outputId": "96b78543-81d3-49ec-f3c3-357b40a19eaf"
      },
      "execution_count": 8,
      "outputs": [
        {
          "output_type": "stream",
          "name": "stdout",
          "text": [
            "Number of rows: 5460, Number of columns: 10\n"
          ]
        }
      ]
    },
    {
      "cell_type": "code",
      "source": [
        "merged_df['join_date'] = pd.to_datetime(merged_df['join_date'])#הטיפוס של העמודה של התאריך היא מסוג אובייקט ולכן נשנהה אותו לההיות מסוג תאריךך\n",
        "newest = merged_df.loc[merged_df['join_date'].idxmax()]#ניגש לעמודה של ההאריך ואז נפעיל את הפונקציה שתחזיר לנו את הערך הגדול ביותר בעמודה\n",
        "print(newest.user_id)"
      ],
      "metadata": {
        "colab": {
          "base_uri": "https://localhost:8080/"
        },
        "id": "cv-nOEVjveAp",
        "outputId": "497fe7f7-7764-4a20-b95c-3d30cd01f92a"
      },
      "execution_count": 9,
      "outputs": [
        {
          "output_type": "stream",
          "name": "stdout",
          "text": [
            "465\n"
          ]
        }
      ]
    },
    {
      "cell_type": "code",
      "source": [
        "target_user_id=2\n",
        "message_counts = merged_df.groupby('user_id').size()#סופרים עבור כל משתמש בטבלה כמה הודעות הוא שלח\n",
        "print(f'Number of messages sent by user {target_user_id}: {message_counts.get(target_user_id, 0)}')#מדפיס את כמות ההודעות שמשתמש מספר 2 שלח בצורה שהוא מסנן רק לפי המספר שנתנו לו ואם הוא לא קיים מחזיר 0\n"
      ],
      "metadata": {
        "colab": {
          "base_uri": "https://localhost:8080/"
        },
        "id": "NYtgE7AuzDSI",
        "outputId": "3153f499-fd96-4e01-85b6-e0ba6a9d559c"
      },
      "execution_count": 10,
      "outputs": [
        {
          "output_type": "stream",
          "name": "stdout",
          "text": [
            "Number of messages sent by user 2: 6\n"
          ]
        }
      ]
    },
    {
      "cell_type": "code",
      "source": [
        "meeting_requests = merged_df[merged_df['message'].str.contains(\"Let's meet\", case=False, na=False)]\n",
        "print(meeting_requests)"
      ],
      "metadata": {
        "colab": {
          "base_uri": "https://localhost:8080/"
        },
        "id": "BdoKFzuf1TSX",
        "outputId": "8dbc71a3-7fb5-416e-fa6d-9d30af757a67"
      },
      "execution_count": 11,
      "outputs": [
        {
          "output_type": "stream",
          "name": "stdout",
          "text": [
            "      user_id  to_user                   timestamp  friends_count  \\\n",
            "2           2       13  2024-09-25T21:53:57.092404              1   \n",
            "4           2       13  2024-01-31T21:53:57.094258              1   \n",
            "5           2       13  2024-05-19T21:53:57.095395              1   \n",
            "7           3       13  2024-10-08T21:53:57.098070              1   \n",
            "8           3       13  2024-01-25T21:53:57.099169              1   \n",
            "...       ...      ...                         ...            ...   \n",
            "5452     1000        3  2023-12-27T21:54:01.910856              4   \n",
            "5453     1000       15  2024-10-01T21:54:01.911253              4   \n",
            "5457     1000       15  2024-04-20T21:54:01.914068              4   \n",
            "5458     1000        1  2023-12-30T21:54:01.914542              4   \n",
            "5459     1000       10  2023-11-17T21:54:01.915063              4   \n",
            "\n",
            "                                                message        name  age  \\\n",
            "2       Let's meet at Central Park on 2023-11-13, Mark!    Charlie2   51   \n",
            "4     Let's meet at Riverwalk Cafe on 2024-01-06, Mark!    Charlie2   51   \n",
            "5       Let's meet at Central Park on 2024-05-23, Mark!    Charlie2   51   \n",
            "7           Let's meet at Tech Hub on 2024-04-30, Mark!        Bob3   31   \n",
            "8       Let's meet at City Library on 2024-05-10, Mark!        Bob3   31   \n",
            "...                                                 ...         ...  ...   \n",
            "5452     Let's meet at Tech Hub on 2024-05-14, Charlie!  Hannah1000   33   \n",
            "5453  Let's meet at Riverwalk Cafe on 2024-03-28, Os...  Hannah1000   33   \n",
            "5457       Let's meet at Tech Hub on 2024-07-02, Oscar!  Hannah1000   33   \n",
            "5458  Let's meet at Museum of Modern Art on 2024-09-...  Hannah1000   33   \n",
            "5459  Let's meet at Museum of Modern Art on 2023-10-...  Hannah1000   33   \n",
            "\n",
            "     gender     city  join_date  \n",
            "2         F  Atlanta 2024-02-14  \n",
            "4         F  Atlanta 2024-02-14  \n",
            "5         F  Atlanta 2024-02-14  \n",
            "7         M  Houston 2024-08-23  \n",
            "8         M  Houston 2024-08-23  \n",
            "...     ...      ...        ...  \n",
            "5452      F    Miami 2024-02-11  \n",
            "5453      F    Miami 2024-02-11  \n",
            "5457      F    Miami 2024-02-11  \n",
            "5458      F    Miami 2024-02-11  \n",
            "5459      F    Miami 2024-02-11  \n",
            "\n",
            "[2792 rows x 10 columns]\n"
          ]
        }
      ]
    },
    {
      "cell_type": "code",
      "source": [
        "# עבור סעיף 6 אני מבינה שכדי לדעת מה היחס בין מספר ההודעות למספר החברים אני צריכה לעשות את זה בכמה שלבים\n",
        "# בשלב הראשון אני אבדוק עבור כל יוזר כמה חברים יש לו\n",
        "#בשלב השני אני אבדוק כמה הודעות יש לו\n",
        "#בשלב האחרון אחלק את כמות ההודעות לכמות החברים ואקח משם את הקטן ביותר\n",
        "# הסתבכתי פה עם הכתיבה של הקוד עצמו אבל זה הרעיון מקווה שזה בסדר"
      ],
      "metadata": {
        "id": "a0DutMspLMKi"
      },
      "execution_count": 17,
      "outputs": []
    },
    {
      "cell_type": "code",
      "source": [
        "# חישוב מספר המשתמשים השונים שכל משתמש מקיים איתם אינטראקציה\n",
        "unique_contacts = df_messages.groupby('user_id')['to_user'].nunique().reset_index()\n",
        "\n",
        "# סינון המשתמשים שמקיימים אינטראקציה עם משתמש אחד בלבד\n",
        "single_contact_users = unique_contacts[unique_contacts['to_user'] == 1]\n",
        "\n",
        "# הצגת התוצאה\n",
        "print(single_contact_users)\n",
        "\n"
      ],
      "metadata": {
        "colab": {
          "base_uri": "https://localhost:8080/"
        },
        "id": "wJmU1GZ0OxTD",
        "outputId": "6261d08f-a70c-4616-bd70-b5f6a1620d48"
      },
      "execution_count": 19,
      "outputs": [
        {
          "output_type": "stream",
          "name": "stdout",
          "text": [
            "     user_id  to_user\n",
            "0          1        1\n",
            "1          2        1\n",
            "2          3        1\n",
            "7          8        1\n",
            "15        16        1\n",
            "..       ...      ...\n",
            "974      975        1\n",
            "978      979        1\n",
            "986      987        1\n",
            "996      997        1\n",
            "998      999        1\n",
            "\n",
            "[343 rows x 2 columns]\n"
          ]
        }
      ]
    }
  ]
}